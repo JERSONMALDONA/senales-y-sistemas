{
  "nbformat": 4,
  "nbformat_minor": 0,
  "metadata": {
    "colab": {
      "provenance": [],
      "authorship_tag": "ABX9TyNsHb9NDjW/++J0XXjgX9uS",
      "include_colab_link": true
    },
    "kernelspec": {
      "name": "python3",
      "display_name": "Python 3"
    },
    "language_info": {
      "name": "python"
    }
  },
  "cells": [
    {
      "cell_type": "markdown",
      "metadata": {
        "id": "view-in-github",
        "colab_type": "text"
      },
      "source": [
        "<a href=\"https://colab.research.google.com/github/JERSONMALDONA/senales-y-sistemas/blob/main/taler_2/Transformadas_de_Fourier_consulta.ipynb\" target=\"_parent\"><img src=\"https://colab.research.google.com/assets/colab-badge.svg\" alt=\"Open In Colab\"/></a>"
      ]
    },
    {
      "cell_type": "markdown",
      "source": [],
      "metadata": {
        "id": "V6dsNkiIUVAZ"
      }
    },
    {
      "cell_type": "markdown",
      "source": [
        "**Consulta:**\n",
        "\n",
        "Explique las semejanzas y diferencias entre la **serie de Fourier** (exponencial, trigonométrica y compacta), la **transformada de Fourier**, **transformada de Fourier en tiempo discreto (DTFT)** y **transformada discreta de Fourier (DFT)**.\n",
        "\n",
        "Considere las diferentes combinaciones entre:\n",
        "\n",
        "- **Espectro continuo vs espectro discreto**\n",
        "- **Señal en tiempo continuo vs señal en tiempo discreto**\n",
        "\n",
        "Además, consulte en qué consiste el algoritmo **Fast Fourier Transform (FFT)** y su utilidad para el cálculo de la **transformada discreta de Fourier**.\n",
        "\n",
        "Explique en detalle el algoritmo **FFT** y su **costo computacional** comparado con el de la **transformada discreta de Fourier (DFT)**.\n",
        "\n",
        "Ver cuaderno: *Transformada de Fourier*.\n"
      ],
      "metadata": {
        "id": "R7sH6yHIWrFW"
      }
    },
    {
      "cell_type": "markdown",
      "source": [
        "SOLUCION"
      ],
      "metadata": {
        "id": "C5YAKleyYj-M"
      }
    },
    {
      "cell_type": "markdown",
      "source": [
        " **1. Serie de Fourier (Tiempo continuo y periódica)**\n",
        "# **a) Forma trigonométrica**\n",
        "Representa una señal periódica $x(t)$ de periodo $T$ como suma de senos y cosenos:\n",
        "\n",
        "$$\n",
        "x(t) = a_0 + \\sum_{n=1}^{\\infty} \\left[ a_n \\cos\\left(\\frac{2\\pi n}{T} t\\right) + b_n \\sin\\left(\\frac{2\\pi n}{T} t\\right) \\right]\n",
        "$$\n",
        "\n",
        "**Coeficientes:**\n",
        "\n",
        "$$\n",
        "a_0 = \\frac{1}{T} \\int_0^T x(t)\\,dt\n",
        "$$\n",
        "\n",
        "$$\n",
        "a_n = \\frac{2}{T} \\int_0^T x(t) \\cos\\left(\\frac{2\\pi n}{T}t\\right) dt\n",
        "$$\n",
        "\n",
        "$$\n",
        "b_n = \\frac{2}{T} \\int_0^T x(t) \\sin\\left(\\frac{2\\pi n}{T}t\\right) dt\n",
        "$$\n",
        "\n",
        "\n",
        "**Aplicación:** útil para análisis cuando el comportamiento seno-coseno es más intuitivo, como en circuitos eléctricos o vibraciones.\n",
        "\n",
        "# **b) Forma exponencial**\n",
        "\n",
        "Usa funciones exponenciales complejas $e^{j\\omega t}$ como base ortonormal:\n",
        "\n",
        "$$\n",
        "x(t) = \\sum_{n=-\\infty}^{\\infty} C_n \\, e^{j n \\omega_0 t} \\quad \\text{con } \\omega_0 = \\frac{2\\pi}{T}\n",
        "$$\n",
        "\n",
        "**Coeficientes:**\n",
        "\n",
        "$$\n",
        "C_n = \\frac{1}{T} \\int_0^T x(t) \\, e^{-j n \\omega_0 t} \\, dt\n",
        "$$\n",
        "\n",
        "**Ventaja:** forma compacta, elegante y útil para derivaciones usando álgebra compleja (por ejemplo, convolución, modulación).\n",
        "\n",
        "# **c) Forma compacta**\n",
        "\n",
        "Es simplemente la misma serie exponencial, pero reorganizada como:\n",
        "\n",
        "$$\n",
        "x(t) = \\sum_{n=-\\infty}^{\\infty} C_n \\, e^{j n \\omega_0 t} \\quad \\text{con } C_{-n} = C_n^*\n",
        "$$\n",
        "\n",
        "Se llama **compacta** porque encapsula la misma información de la forma trigonométrica, pero con menos notación.\n",
        "\n",
        "# **2. Transformada de Fourier (Tiempo continuo y no periódica)**\n",
        "Transforma señales **no periódicas** en tiempo continuo en un **espectro continuo** en frecuencia.\n",
        "\n",
        "**Transformada directa:**\n",
        "\n",
        "$$\n",
        "X(\\omega) = \\int_{-\\infty}^{\\infty} x(t)\\, e^{-j \\omega t} \\, dt\n",
        "$$\n",
        "\n",
        "**Transformada inversa:**\n",
        "\n",
        "$$\n",
        "x(t) = \\frac{1}{2\\pi} \\int_{-\\infty}^{\\infty} X(\\omega)\\, e^{j \\omega t} \\, d\\omega\n",
        "$$\n",
        "\n",
        "**Relación con la serie:** si $x(t)$ es periódica, su transformada se convierte en una serie de impulsos (tipo peine de Dirac).\n",
        "\n",
        "# **3. DTFT – Transformada de Fourier en tiempo discreto**\n",
        "\n",
        "Se usa para **señales infinitas** en tiempo discreto.  \n",
        "El espectro resultante es **continuo y periódico** en $\\omega$ con periodo $2\\pi$.\n",
        "\n",
        "**Transformada directa:**\n",
        "\n",
        "$$\n",
        "X(e^{j\\omega}) = \\sum_{n=-\\infty}^{\\infty} x[n]\\, e^{-j \\omega n}\n",
        "$$\n",
        "\n",
        "**Transformada inversa:**\n",
        "\n",
        "$$\n",
        "x[n] = \\frac{1}{2\\pi} \\int_{-\\pi}^{\\pi} X(e^{j\\omega})\\, e^{j \\omega n} \\, d\\omega\n",
        "$$\n",
        "\n",
        "# **4. DFT – Transformada Discreta de Fourier**\n",
        "\n",
        "Se aplica sobre una señal **discreta y de duración finita** (por ejemplo, una ventana de $N$ muestras).\n",
        "\n",
        "**Transformada directa:**\n",
        "\n",
        "$$\n",
        "X[k] = \\sum_{n=0}^{N-1} x[n] \\, e^{-j \\frac{2\\pi}{N}kn} \\quad \\text{para } k = 0, 1, \\dots, N-1\n",
        "$$\n",
        "\n",
        "**Transformada inversa:**\n",
        "\n",
        "$$\n",
        "x[n] = \\frac{1}{N} \\sum_{k=0}^{N-1} X[k] \\, e^{j \\frac{2\\pi}{N}kn} \\quad \\text{para } n = 0, 1, \\dots, N-1\n",
        "$$\n",
        "\n",
        "Se puede ver como un **muestreo periódico de la DTFT**.\n",
        "\n",
        "Es la base de la implementación numérica mediante **FFT (Fast Fourier Transform)**.\n"
      ],
      "metadata": {
        "id": "tFe2-EKPc3UA"
      }
    },
    {
      "cell_type": "markdown",
      "source": [
        "EJEMPLO EN PYTHON FFT\n"
      ],
      "metadata": {
        "id": "plw2hc6fisNI"
      }
    },
    {
      "cell_type": "code",
      "source": [
        "import numpy as np\n",
        "import matplotlib.pyplot as plt\n",
        "\n",
        "# Parámetros\n",
        "muestreo = 1000  # Hz\n",
        "duracion = 1     # segundos\n",
        "N = int(muestreo * duracion)\n",
        "tiempo = np.linspace(0, duracion, N, endpoint=False)\n",
        "\n",
        "# Señal compuesta: dos senoidales\n",
        "senal = np.sin(2 * np.pi * 50 * tiempo) + 0.5 * np.sin(2 * np.pi * 120 * tiempo)\n",
        "\n",
        "# Transformada rápida de Fourier (FFT)\n",
        "transformada = np.fft.fft(senal)\n",
        "frecuencias = np.fft.fftfreq(N, d=1/muestreo)\n",
        "\n",
        "# Gráfica del espectro (solo mitad positiva)\n",
        "mitad = N // 2\n",
        "plt.figure(figsize=(8, 4))\n",
        "plt.plot(frecuencias[:mitad], np.abs(transformada[:mitad]), color='darkblue')\n",
        "plt.title(\"Transformada de Fourier (FFT)\")\n",
        "plt.xlabel(\"Frecuencia (Hz)\")\n",
        "plt.ylabel(\"Amplitud\")\n",
        "plt.grid(True)\n",
        "plt.tight_layout()\n",
        "plt.show()\n"
      ],
      "metadata": {
        "colab": {
          "base_uri": "https://localhost:8080/",
          "height": 407
        },
        "id": "vQ8n3v-ji5Cf",
        "outputId": "9185ac73-ddc5-472b-f04e-20fd01ca55b8"
      },
      "execution_count": 1,
      "outputs": [
        {
          "output_type": "display_data",
          "data": {
            "text/plain": [
              "<Figure size 800x400 with 1 Axes>"
            ],
            "image/png": "[encoded data removed]"
          },
          "metadata": {}
        }
      ]
    },
    {
      "cell_type": "markdown",
      "source": [
        "#Conclusiones\n",
        "\n",
        "| Transformada | Tipo de señal | Dominio del tiempo | Tipo de espectro      |\n",
        "| ------------ | ------------- | ------------------ | --------------------- |\n",
        "| SF           | Periódica     | Continuo           | Discreto              |\n",
        "| TF           | No periódica  | Continuo           | Continuo              |\n",
        "| DTFT         | No periódica  | Discreto           | Continuo y periódico  |\n",
        "| DFT          | Periódica     | Discreto           | Discreto y periódico  |\n",
        "| FFT          | Periódica     | Discreto           | Discreto (optimizado) |\n"
      ],
      "metadata": {
        "id": "95-fyIT-kRHg"
      }
    }
  ]
}